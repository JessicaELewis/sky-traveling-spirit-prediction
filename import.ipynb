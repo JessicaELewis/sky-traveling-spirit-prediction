{
 "cells": [
  {
   "cell_type": "markdown",
   "metadata": {},
   "source": [
    "# Sky Traveling Spirit Prediction\n",
    "## Importing Data"
   ]
  },
  {
   "cell_type": "code",
   "execution_count": 66,
   "metadata": {},
   "outputs": [],
   "source": [
    "import pandas as pd\n",
    "import numpy as np"
   ]
  },
  {
   "cell_type": "code",
   "execution_count": 2,
   "metadata": {},
   "outputs": [
    {
     "data": {
      "text/html": [
       "<div>\n",
       "<style scoped>\n",
       "    .dataframe tbody tr th:only-of-type {\n",
       "        vertical-align: middle;\n",
       "    }\n",
       "\n",
       "    .dataframe tbody tr th {\n",
       "        vertical-align: top;\n",
       "    }\n",
       "\n",
       "    .dataframe thead th {\n",
       "        text-align: right;\n",
       "    }\n",
       "</style>\n",
       "<table border=\"1\" class=\"dataframe\">\n",
       "  <thead>\n",
       "    <tr style=\"text-align: right;\">\n",
       "      <th></th>\n",
       "      <th>Visit#</th>\n",
       "      <th>Date</th>\n",
       "      <th>Season</th>\n",
       "      <th>Realms</th>\n",
       "      <th>Spirit</th>\n",
       "      <th>Last Visit</th>\n",
       "    </tr>\n",
       "  </thead>\n",
       "  <tbody>\n",
       "    <tr>\n",
       "      <th>0</th>\n",
       "      <td>63nd</td>\n",
       "      <td>2022-06-09</td>\n",
       "      <td>Belonging</td>\n",
       "      <td>Hidden Forest</td>\n",
       "      <td>Hairtousle Teen(R)</td>\n",
       "      <td>2nd visit(52 ago)</td>\n",
       "    </tr>\n",
       "    <tr>\n",
       "      <th>1</th>\n",
       "      <td>62nd</td>\n",
       "      <td>2022-05-26</td>\n",
       "      <td>Gratitude</td>\n",
       "      <td>Vault of Knowledge</td>\n",
       "      <td>Greeting Shaman(R)</td>\n",
       "      <td>2nd Visit(48 ago)</td>\n",
       "    </tr>\n",
       "    <tr>\n",
       "      <th>2</th>\n",
       "      <td>61st</td>\n",
       "      <td>2022-05-12</td>\n",
       "      <td>Prophecy</td>\n",
       "      <td>Isle of Dawn</td>\n",
       "      <td>Prophet of Air</td>\n",
       "      <td>1st Visit</td>\n",
       "    </tr>\n",
       "    <tr>\n",
       "      <th>3</th>\n",
       "      <td>60th</td>\n",
       "      <td>2022-04-28</td>\n",
       "      <td>Assembly</td>\n",
       "      <td>Hidden Forest</td>\n",
       "      <td>Daydream Forester</td>\n",
       "      <td>1st Visit</td>\n",
       "    </tr>\n",
       "    <tr>\n",
       "      <th>4</th>\n",
       "      <td>59th</td>\n",
       "      <td>2022-04-14</td>\n",
       "      <td>Dreams</td>\n",
       "      <td>Valley of Triumph</td>\n",
       "      <td>Spinning Mentor</td>\n",
       "      <td>1st Visit</td>\n",
       "    </tr>\n",
       "  </tbody>\n",
       "</table>\n",
       "</div>"
      ],
      "text/plain": [
       "  Visit#       Date     Season              Realms              Spirit  \\\n",
       "0   63nd 2022-06-09  Belonging       Hidden Forest  Hairtousle Teen(R)   \n",
       "1   62nd 2022-05-26  Gratitude  Vault of Knowledge  Greeting Shaman(R)   \n",
       "2   61st 2022-05-12   Prophecy        Isle of Dawn      Prophet of Air   \n",
       "3   60th 2022-04-28   Assembly       Hidden Forest   Daydream Forester   \n",
       "4   59th 2022-04-14     Dreams   Valley of Triumph     Spinning Mentor   \n",
       "\n",
       "          Last Visit  \n",
       "0  2nd visit(52 ago)  \n",
       "1  2nd Visit(48 ago)  \n",
       "2          1st Visit  \n",
       "3          1st Visit  \n",
       "4          1st Visit  "
      ]
     },
     "execution_count": 2,
     "metadata": {},
     "output_type": "execute_result"
    }
   ],
   "source": [
    "spirits = pd.read_json('data/traveling_spirits.json')\n",
    "spirits.head()"
   ]
  },
  {
   "cell_type": "code",
   "execution_count": 3,
   "metadata": {},
   "outputs": [],
   "source": [
    "spirits.rename(columns={\n",
    "    'Visit#' :'Travel Cycle', \n",
    "    'Realms':'Realm', \n",
    "    'Last Visit':'Visit Number'}, inplace=True)"
   ]
  },
  {
   "cell_type": "code",
   "execution_count": 4,
   "metadata": {},
   "outputs": [
    {
     "data": {
      "text/html": [
       "<div>\n",
       "<style scoped>\n",
       "    .dataframe tbody tr th:only-of-type {\n",
       "        vertical-align: middle;\n",
       "    }\n",
       "\n",
       "    .dataframe tbody tr th {\n",
       "        vertical-align: top;\n",
       "    }\n",
       "\n",
       "    .dataframe thead th {\n",
       "        text-align: right;\n",
       "    }\n",
       "</style>\n",
       "<table border=\"1\" class=\"dataframe\">\n",
       "  <thead>\n",
       "    <tr style=\"text-align: right;\">\n",
       "      <th></th>\n",
       "      <th>Travel Cycle</th>\n",
       "      <th>Date</th>\n",
       "      <th>Season</th>\n",
       "      <th>Realm</th>\n",
       "      <th>Spirit</th>\n",
       "      <th>Visit Number</th>\n",
       "    </tr>\n",
       "  </thead>\n",
       "  <tbody>\n",
       "    <tr>\n",
       "      <th>0</th>\n",
       "      <td>63nd</td>\n",
       "      <td>2022-06-09</td>\n",
       "      <td>Belonging</td>\n",
       "      <td>Hidden Forest</td>\n",
       "      <td>Hairtousle Teen(R)</td>\n",
       "      <td>2nd visit(52 ago)</td>\n",
       "    </tr>\n",
       "    <tr>\n",
       "      <th>1</th>\n",
       "      <td>62nd</td>\n",
       "      <td>2022-05-26</td>\n",
       "      <td>Gratitude</td>\n",
       "      <td>Vault of Knowledge</td>\n",
       "      <td>Greeting Shaman(R)</td>\n",
       "      <td>2nd Visit(48 ago)</td>\n",
       "    </tr>\n",
       "    <tr>\n",
       "      <th>2</th>\n",
       "      <td>61st</td>\n",
       "      <td>2022-05-12</td>\n",
       "      <td>Prophecy</td>\n",
       "      <td>Isle of Dawn</td>\n",
       "      <td>Prophet of Air</td>\n",
       "      <td>1st Visit</td>\n",
       "    </tr>\n",
       "    <tr>\n",
       "      <th>3</th>\n",
       "      <td>60th</td>\n",
       "      <td>2022-04-28</td>\n",
       "      <td>Assembly</td>\n",
       "      <td>Hidden Forest</td>\n",
       "      <td>Daydream Forester</td>\n",
       "      <td>1st Visit</td>\n",
       "    </tr>\n",
       "    <tr>\n",
       "      <th>4</th>\n",
       "      <td>59th</td>\n",
       "      <td>2022-04-14</td>\n",
       "      <td>Dreams</td>\n",
       "      <td>Valley of Triumph</td>\n",
       "      <td>Spinning Mentor</td>\n",
       "      <td>1st Visit</td>\n",
       "    </tr>\n",
       "  </tbody>\n",
       "</table>\n",
       "</div>"
      ],
      "text/plain": [
       "  Travel Cycle       Date     Season               Realm              Spirit  \\\n",
       "0         63nd 2022-06-09  Belonging       Hidden Forest  Hairtousle Teen(R)   \n",
       "1         62nd 2022-05-26  Gratitude  Vault of Knowledge  Greeting Shaman(R)   \n",
       "2         61st 2022-05-12   Prophecy        Isle of Dawn      Prophet of Air   \n",
       "3         60th 2022-04-28   Assembly       Hidden Forest   Daydream Forester   \n",
       "4         59th 2022-04-14     Dreams   Valley of Triumph     Spinning Mentor   \n",
       "\n",
       "        Visit Number  \n",
       "0  2nd visit(52 ago)  \n",
       "1  2nd Visit(48 ago)  \n",
       "2          1st Visit  \n",
       "3          1st Visit  \n",
       "4          1st Visit  "
      ]
     },
     "execution_count": 4,
     "metadata": {},
     "output_type": "execute_result"
    }
   ],
   "source": [
    "spirits.head()"
   ]
  },
  {
   "cell_type": "code",
   "execution_count": 5,
   "metadata": {},
   "outputs": [],
   "source": [
    "spirits['Travel Cycle'].replace('[a-z]','',regex=True, inplace=True)"
   ]
  },
  {
   "cell_type": "code",
   "execution_count": 6,
   "metadata": {},
   "outputs": [
    {
     "data": {
      "text/plain": [
       "array(['63', '62', '61', '60', '59', '58', '57', '56', '55', '54', '53',\n",
       "       '52', 'E*', '51', '50', '49', '48', '47', '46', '45', '44', '43',\n",
       "       '42', '41', '40', '39', '38', '37', '36', '35', '34', '33', '32',\n",
       "       '31', '30', '29', '28', '27', '26', '25', '24', '23', '22', '21',\n",
       "       '20', '19', '18', '17', '16', '15', '14', '13', '12', '11', '10',\n",
       "       '9', '8', '7', '6', '5', '4', '3', '2', '1'], dtype=object)"
      ]
     },
     "execution_count": 6,
     "metadata": {},
     "output_type": "execute_result"
    }
   ],
   "source": [
    "spirits['Travel Cycle'].unique()"
   ]
  },
  {
   "cell_type": "code",
   "execution_count": 7,
   "metadata": {},
   "outputs": [],
   "source": [
    "spirits = spirits[spirits['Travel Cycle'] != 'E*']"
   ]
  },
  {
   "cell_type": "code",
   "execution_count": 8,
   "metadata": {},
   "outputs": [],
   "source": [
    "spirits['Travel Cycle'] = spirits['Travel Cycle'].astype('int64')"
   ]
  },
  {
   "cell_type": "code",
   "execution_count": 9,
   "metadata": {},
   "outputs": [],
   "source": [
    "# spirits = spirits.set_index('Travel Cycle').sort_index()"
   ]
  },
  {
   "cell_type": "code",
   "execution_count": 10,
   "metadata": {},
   "outputs": [],
   "source": [
    "spirits.Date = pd.to_datetime(spirits.Date)"
   ]
  },
  {
   "cell_type": "code",
   "execution_count": 11,
   "metadata": {},
   "outputs": [
    {
     "data": {
      "text/html": [
       "<div>\n",
       "<style scoped>\n",
       "    .dataframe tbody tr th:only-of-type {\n",
       "        vertical-align: middle;\n",
       "    }\n",
       "\n",
       "    .dataframe tbody tr th {\n",
       "        vertical-align: top;\n",
       "    }\n",
       "\n",
       "    .dataframe thead th {\n",
       "        text-align: right;\n",
       "    }\n",
       "</style>\n",
       "<table border=\"1\" class=\"dataframe\">\n",
       "  <thead>\n",
       "    <tr style=\"text-align: right;\">\n",
       "      <th></th>\n",
       "      <th>Travel Cycle</th>\n",
       "      <th>Date</th>\n",
       "      <th>Season</th>\n",
       "      <th>Realm</th>\n",
       "      <th>Spirit</th>\n",
       "      <th>Visit Number</th>\n",
       "    </tr>\n",
       "  </thead>\n",
       "  <tbody>\n",
       "    <tr>\n",
       "      <th>0</th>\n",
       "      <td>63</td>\n",
       "      <td>2022-06-09</td>\n",
       "      <td>Belonging</td>\n",
       "      <td>Hidden Forest</td>\n",
       "      <td>Hairtousle Teen(R)</td>\n",
       "      <td>2nd visit(52 ago)</td>\n",
       "    </tr>\n",
       "    <tr>\n",
       "      <th>1</th>\n",
       "      <td>62</td>\n",
       "      <td>2022-05-26</td>\n",
       "      <td>Gratitude</td>\n",
       "      <td>Vault of Knowledge</td>\n",
       "      <td>Greeting Shaman(R)</td>\n",
       "      <td>2nd Visit(48 ago)</td>\n",
       "    </tr>\n",
       "    <tr>\n",
       "      <th>2</th>\n",
       "      <td>61</td>\n",
       "      <td>2022-05-12</td>\n",
       "      <td>Prophecy</td>\n",
       "      <td>Isle of Dawn</td>\n",
       "      <td>Prophet of Air</td>\n",
       "      <td>1st Visit</td>\n",
       "    </tr>\n",
       "    <tr>\n",
       "      <th>3</th>\n",
       "      <td>60</td>\n",
       "      <td>2022-04-28</td>\n",
       "      <td>Assembly</td>\n",
       "      <td>Hidden Forest</td>\n",
       "      <td>Daydream Forester</td>\n",
       "      <td>1st Visit</td>\n",
       "    </tr>\n",
       "    <tr>\n",
       "      <th>4</th>\n",
       "      <td>59</td>\n",
       "      <td>2022-04-14</td>\n",
       "      <td>Dreams</td>\n",
       "      <td>Valley of Triumph</td>\n",
       "      <td>Spinning Mentor</td>\n",
       "      <td>1st Visit</td>\n",
       "    </tr>\n",
       "  </tbody>\n",
       "</table>\n",
       "</div>"
      ],
      "text/plain": [
       "   Travel Cycle       Date     Season               Realm              Spirit  \\\n",
       "0            63 2022-06-09  Belonging       Hidden Forest  Hairtousle Teen(R)   \n",
       "1            62 2022-05-26  Gratitude  Vault of Knowledge  Greeting Shaman(R)   \n",
       "2            61 2022-05-12   Prophecy        Isle of Dawn      Prophet of Air   \n",
       "3            60 2022-04-28   Assembly       Hidden Forest   Daydream Forester   \n",
       "4            59 2022-04-14     Dreams   Valley of Triumph     Spinning Mentor   \n",
       "\n",
       "        Visit Number  \n",
       "0  2nd visit(52 ago)  \n",
       "1  2nd Visit(48 ago)  \n",
       "2          1st Visit  \n",
       "3          1st Visit  \n",
       "4          1st Visit  "
      ]
     },
     "execution_count": 11,
     "metadata": {},
     "output_type": "execute_result"
    }
   ],
   "source": [
    "spirits.head()"
   ]
  },
  {
   "cell_type": "code",
   "execution_count": 14,
   "metadata": {},
   "outputs": [
    {
     "data": {
      "text/html": [
       "<div>\n",
       "<style scoped>\n",
       "    .dataframe tbody tr th:only-of-type {\n",
       "        vertical-align: middle;\n",
       "    }\n",
       "\n",
       "    .dataframe tbody tr th {\n",
       "        vertical-align: top;\n",
       "    }\n",
       "\n",
       "    .dataframe thead th {\n",
       "        text-align: right;\n",
       "    }\n",
       "</style>\n",
       "<table border=\"1\" class=\"dataframe\">\n",
       "  <thead>\n",
       "    <tr style=\"text-align: right;\">\n",
       "      <th></th>\n",
       "      <th>Travel Cycle</th>\n",
       "      <th>Date</th>\n",
       "      <th>Season</th>\n",
       "      <th>Realm</th>\n",
       "      <th>Spirit</th>\n",
       "      <th>Visit Number</th>\n",
       "      <th>Previous Visit Cycle</th>\n",
       "      <th>Previous Visit Ago</th>\n",
       "    </tr>\n",
       "  </thead>\n",
       "  <tbody>\n",
       "    <tr>\n",
       "      <th>18</th>\n",
       "      <td>46</td>\n",
       "      <td>2021-10-14</td>\n",
       "      <td>Rhythm</td>\n",
       "      <td>Daylight Prairie</td>\n",
       "      <td>Festival Spin Dancer(R)</td>\n",
       "      <td>2nd Visit(29 ago)</td>\n",
       "      <td>29 ago</td>\n",
       "      <td>29 ago</td>\n",
       "    </tr>\n",
       "    <tr>\n",
       "      <th>34</th>\n",
       "      <td>30</td>\n",
       "      <td>2021-03-04</td>\n",
       "      <td>Lightseekers</td>\n",
       "      <td>Isle of Dawn</td>\n",
       "      <td>Piggyback Lightseeker(R)</td>\n",
       "      <td>2nd Visit(23 ago)</td>\n",
       "      <td>23 ago</td>\n",
       "      <td>23 ago</td>\n",
       "    </tr>\n",
       "    <tr>\n",
       "      <th>33</th>\n",
       "      <td>31</td>\n",
       "      <td>2021-03-18</td>\n",
       "      <td>Gratitude</td>\n",
       "      <td>Valley of Triumph</td>\n",
       "      <td>Leaping Dancer(R)</td>\n",
       "      <td>2nd Visit(19 ago)</td>\n",
       "      <td>19 ago</td>\n",
       "      <td>19 ago</td>\n",
       "    </tr>\n",
       "    <tr>\n",
       "      <th>26</th>\n",
       "      <td>38</td>\n",
       "      <td>2021-06-24</td>\n",
       "      <td>Rhythm</td>\n",
       "      <td>Hidden Forest</td>\n",
       "      <td>Admiring Actor(R)</td>\n",
       "      <td>2nd Visit(18 ago)</td>\n",
       "      <td>18 ago</td>\n",
       "      <td>18 ago</td>\n",
       "    </tr>\n",
       "    <tr>\n",
       "      <th>54</th>\n",
       "      <td>11</td>\n",
       "      <td>2020-06-11</td>\n",
       "      <td>Belonging</td>\n",
       "      <td>Hidden Forest</td>\n",
       "      <td>Hairtousle Teen</td>\n",
       "      <td>1st Visit</td>\n",
       "      <td>NaN</td>\n",
       "      <td>NaN</td>\n",
       "    </tr>\n",
       "    <tr>\n",
       "      <th>65</th>\n",
       "      <td>1</td>\n",
       "      <td>2020-01-31</td>\n",
       "      <td>Gratitude</td>\n",
       "      <td>Isle of Dawn</td>\n",
       "      <td>Sassy Drifter</td>\n",
       "      <td>1st Visit</td>\n",
       "      <td>NaN</td>\n",
       "      <td>NaN</td>\n",
       "    </tr>\n",
       "    <tr>\n",
       "      <th>16</th>\n",
       "      <td>48</td>\n",
       "      <td>2021-11-11</td>\n",
       "      <td>Belonging</td>\n",
       "      <td>Vault of Knowledge</td>\n",
       "      <td>Wise Grandparent(R)</td>\n",
       "      <td>2nd Visit(33 ago)</td>\n",
       "      <td>33 ago</td>\n",
       "      <td>33 ago</td>\n",
       "    </tr>\n",
       "    <tr>\n",
       "      <th>21</th>\n",
       "      <td>43</td>\n",
       "      <td>2021-09-02</td>\n",
       "      <td>Lightseekers</td>\n",
       "      <td>Golden Wasteland</td>\n",
       "      <td>Crab Whisperer(R)</td>\n",
       "      <td>2nd Visit(37 ago)</td>\n",
       "      <td>37 ago</td>\n",
       "      <td>37 ago</td>\n",
       "    </tr>\n",
       "    <tr>\n",
       "      <th>62</th>\n",
       "      <td>4</td>\n",
       "      <td>2020-03-12</td>\n",
       "      <td>Gratitude</td>\n",
       "      <td>Hidden Forest</td>\n",
       "      <td>Provoking Performer</td>\n",
       "      <td>1st Visit</td>\n",
       "      <td>NaN</td>\n",
       "      <td>NaN</td>\n",
       "    </tr>\n",
       "    <tr>\n",
       "      <th>11</th>\n",
       "      <td>52</td>\n",
       "      <td>2022-01-06</td>\n",
       "      <td>Lightseekers</td>\n",
       "      <td>Valley of Triumph</td>\n",
       "      <td>Twirling Champion(R)</td>\n",
       "      <td>2nd Visit(34 ago)</td>\n",
       "      <td>34 ago</td>\n",
       "      <td>34 ago</td>\n",
       "    </tr>\n",
       "  </tbody>\n",
       "</table>\n",
       "</div>"
      ],
      "text/plain": [
       "    Travel Cycle       Date        Season               Realm  \\\n",
       "18            46 2021-10-14        Rhythm    Daylight Prairie   \n",
       "34            30 2021-03-04  Lightseekers        Isle of Dawn   \n",
       "33            31 2021-03-18     Gratitude   Valley of Triumph   \n",
       "26            38 2021-06-24        Rhythm       Hidden Forest   \n",
       "54            11 2020-06-11     Belonging       Hidden Forest   \n",
       "65             1 2020-01-31     Gratitude        Isle of Dawn   \n",
       "16            48 2021-11-11     Belonging  Vault of Knowledge   \n",
       "21            43 2021-09-02  Lightseekers    Golden Wasteland   \n",
       "62             4 2020-03-12     Gratitude       Hidden Forest   \n",
       "11            52 2022-01-06  Lightseekers   Valley of Triumph   \n",
       "\n",
       "                      Spirit       Visit Number Previous Visit Cycle  \\\n",
       "18   Festival Spin Dancer(R)  2nd Visit(29 ago)               29 ago   \n",
       "34  Piggyback Lightseeker(R)  2nd Visit(23 ago)               23 ago   \n",
       "33         Leaping Dancer(R)  2nd Visit(19 ago)               19 ago   \n",
       "26         Admiring Actor(R)  2nd Visit(18 ago)               18 ago   \n",
       "54           Hairtousle Teen          1st Visit                  NaN   \n",
       "65             Sassy Drifter          1st Visit                  NaN   \n",
       "16       Wise Grandparent(R)  2nd Visit(33 ago)               33 ago   \n",
       "21         Crab Whisperer(R)  2nd Visit(37 ago)               37 ago   \n",
       "62       Provoking Performer          1st Visit                  NaN   \n",
       "11      Twirling Champion(R)  2nd Visit(34 ago)               34 ago   \n",
       "\n",
       "   Previous Visit Ago  \n",
       "18             29 ago  \n",
       "34             23 ago  \n",
       "33             19 ago  \n",
       "26             18 ago  \n",
       "54                NaN  \n",
       "65                NaN  \n",
       "16             33 ago  \n",
       "21             37 ago  \n",
       "62                NaN  \n",
       "11             34 ago  "
      ]
     },
     "execution_count": 14,
     "metadata": {},
     "output_type": "execute_result"
    }
   ],
   "source": [
    "spirits['Previous Visit Ago'] = spirits['Visit Number'].str.extract(r'\\(([^\\)]+)\\)', expand=True)\n",
    "spirits.sample(10)"
   ]
  },
  {
   "cell_type": "code",
   "execution_count": 15,
   "metadata": {},
   "outputs": [],
   "source": [
    "spirits['Visit Number'] = spirits['Visit Number'].str.replace(r'[a-z]+\\s([A-z])\\w+.+', '', regex=True)"
   ]
  },
  {
   "cell_type": "code",
   "execution_count": 16,
   "metadata": {},
   "outputs": [],
   "source": [
    "spirits['Visit Number'] = spirits['Visit Number'].astype('int64')"
   ]
  },
  {
   "cell_type": "code",
   "execution_count": 17,
   "metadata": {},
   "outputs": [
    {
     "data": {
      "text/plain": [
       "array(['52 ago', '48 ago', nan, '49 ago', '31 ago', '34 ago', '19 ago',\n",
       "       '33 ago', '29 ago', '37 ago', '18 ago', '23 ago', '14 ago',\n",
       "       '20 ago', '15 ago', '9 ago'], dtype=object)"
      ]
     },
     "execution_count": 17,
     "metadata": {},
     "output_type": "execute_result"
    }
   ],
   "source": [
    "spirits['Previous Visit Ago'].unique()"
   ]
  },
  {
   "cell_type": "code",
   "execution_count": 18,
   "metadata": {},
   "outputs": [],
   "source": [
    "spirits['Previous Visit Ago'] = spirits['Previous Visit Ago'].str.replace(r'\\s[a-z]+', '', regex=True)"
   ]
  },
  {
   "cell_type": "code",
   "execution_count": 69,
   "metadata": {},
   "outputs": [
    {
     "name": "stdout",
     "output_type": "stream",
     "text": [
      "52\n"
     ]
    },
    {
     "ename": "TypeError",
     "evalue": "ufunc 'isnan' not supported for the input types, and the inputs could not be safely coerced to any supported types according to the casting rule ''safe''",
     "output_type": "error",
     "traceback": [
      "\u001b[0;31m---------------------------------------------------------------------------\u001b[0m",
      "\u001b[0;31mTypeError\u001b[0m                                 Traceback (most recent call last)",
      "Input \u001b[0;32mIn [69]\u001b[0m, in \u001b[0;36m<cell line: 1>\u001b[0;34m()\u001b[0m\n\u001b[1;32m      2\u001b[0m prev_sp_cycle \u001b[38;5;241m=\u001b[39m []\n\u001b[1;32m      3\u001b[0m \u001b[38;5;28mprint\u001b[39m(spirit[\u001b[38;5;241m1\u001b[39m][\u001b[38;5;124m'\u001b[39m\u001b[38;5;124mPrevious Visit Ago\u001b[39m\u001b[38;5;124m'\u001b[39m])\n\u001b[0;32m----> 4\u001b[0m \u001b[38;5;28;01mif\u001b[39;00m \u001b[43mnp\u001b[49m\u001b[38;5;241;43m.\u001b[39;49m\u001b[43misnan\u001b[49m\u001b[43m(\u001b[49m\u001b[43mspirit\u001b[49m\u001b[43m[\u001b[49m\u001b[38;5;241;43m1\u001b[39;49m\u001b[43m]\u001b[49m\u001b[43m[\u001b[49m\u001b[38;5;124;43m'\u001b[39;49m\u001b[38;5;124;43mPrevious Visit Ago\u001b[39;49m\u001b[38;5;124;43m'\u001b[39;49m\u001b[43m]\u001b[49m\u001b[43m)\u001b[49m:\n\u001b[1;32m      5\u001b[0m     \u001b[38;5;28mprint\u001b[39m(spirit[\u001b[38;5;241m1\u001b[39m][\u001b[38;5;124m'\u001b[39m\u001b[38;5;124mTravel Cycle\u001b[39m\u001b[38;5;124m'\u001b[39m])\n\u001b[1;32m      6\u001b[0m     prev_sp_cycle \u001b[38;5;241m=\u001b[39m prev_sp_cycle\u001b[38;5;241m.\u001b[39mappend(spirit[\u001b[38;5;241m1\u001b[39m][\u001b[38;5;124m'\u001b[39m\u001b[38;5;124mTravel Cycle\u001b[39m\u001b[38;5;124m'\u001b[39m])\n",
      "\u001b[0;31mTypeError\u001b[0m: ufunc 'isnan' not supported for the input types, and the inputs could not be safely coerced to any supported types according to the casting rule ''safe''"
     ]
    }
   ],
   "source": [
    "for spirit in spirits.iterrows():\n",
    "    prev_sp_cycle = []\n",
    "    print(spirit[1]['Previous Visit Ago'])\n",
    "    if np.isnan(spirit[1]['Previous Visit Ago']):\n",
    "        print(spirit[1]['Travel Cycle'])\n",
    "        prev_sp_cycle = prev_sp_cycle.append(spirit[1]['Travel Cycle'])\n",
    "    else:\n",
    "        print(spirit[1]['Previous Visit Ago'])\n",
    "        prev_sp_cycle = prev_sp_cycle.append(spirit[1]['Previous Visit Ago'])\n",
    "\n",
    "\n",
    "spirits['Previous Visit Cycle'] = prev_sp_cycle\n",
    "    \n",
    "spirits.sample(10)"
   ]
  },
  {
   "cell_type": "code",
   "execution_count": 154,
   "metadata": {},
   "outputs": [
    {
     "data": {
      "text/plain": [
       "Travel Cycle                     int64\n",
       "Date                    datetime64[ns]\n",
       "Season                          object\n",
       "Realm                           object\n",
       "Spirit                          object\n",
       "Visit Number                     int64\n",
       "Previous Visit Cycle             int64\n",
       "dtype: object"
      ]
     },
     "execution_count": 154,
     "metadata": {},
     "output_type": "execute_result"
    }
   ],
   "source": [
    "spirits['Previous Visit Cycle'] = spirits['Previous Visit Cycle'].astype('int64')\n",
    "spirits.dtypes"
   ]
  },
  {
   "cell_type": "code",
   "execution_count": 153,
   "metadata": {},
   "outputs": [
    {
     "ename": "TypeError",
     "evalue": "string indices must be integers",
     "output_type": "error",
     "traceback": [
      "\u001b[0;31m---------------------------------------------------------------------------\u001b[0m",
      "\u001b[0;31mTypeError\u001b[0m                                 Traceback (most recent call last)",
      "Input \u001b[0;32mIn [153]\u001b[0m, in \u001b[0;36m<cell line: 3>\u001b[0;34m()\u001b[0m\n\u001b[1;32m      1\u001b[0m \u001b[38;5;66;03m#if previous visit is nan set it to visit value\u001b[39;00m\n\u001b[1;32m      2\u001b[0m \u001b[38;5;66;03m#previous visit = visit - previous visit\u001b[39;00m\n\u001b[0;32m----> 3\u001b[0m spirits[\u001b[38;5;124m'\u001b[39m\u001b[38;5;124mPrevious Visit Cycle\u001b[39m\u001b[38;5;124m'\u001b[39m] \u001b[38;5;241m=\u001b[39m [i[\u001b[38;5;124m'\u001b[39m\u001b[38;5;124mTravel Cycle\u001b[39m\u001b[38;5;124m'\u001b[39m] \u001b[38;5;28;01mif\u001b[39;00m i[\u001b[38;5;124m'\u001b[39m\u001b[38;5;124mPrevious Visit Cycle\u001b[39m\u001b[38;5;124m'\u001b[39m]\u001b[38;5;241m.\u001b[39mastype(\u001b[38;5;124m'\u001b[39m\u001b[38;5;124mint64\u001b[39m\u001b[38;5;124m'\u001b[39m) \u001b[38;5;241m==\u001b[39m \u001b[38;5;241m0\u001b[39m \u001b[38;5;28;01melse\u001b[39;00m i[\u001b[38;5;124m'\u001b[39m\u001b[38;5;124mPrevious Visit Cycle\u001b[39m\u001b[38;5;124m'\u001b[39m] \u001b[38;5;28;01mfor\u001b[39;00m i \u001b[38;5;129;01min\u001b[39;00m spirits]\n",
      "Input \u001b[0;32mIn [153]\u001b[0m, in \u001b[0;36m<listcomp>\u001b[0;34m(.0)\u001b[0m\n\u001b[1;32m      1\u001b[0m \u001b[38;5;66;03m#if previous visit is nan set it to visit value\u001b[39;00m\n\u001b[1;32m      2\u001b[0m \u001b[38;5;66;03m#previous visit = visit - previous visit\u001b[39;00m\n\u001b[0;32m----> 3\u001b[0m spirits[\u001b[38;5;124m'\u001b[39m\u001b[38;5;124mPrevious Visit Cycle\u001b[39m\u001b[38;5;124m'\u001b[39m] \u001b[38;5;241m=\u001b[39m [i[\u001b[38;5;124m'\u001b[39m\u001b[38;5;124mTravel Cycle\u001b[39m\u001b[38;5;124m'\u001b[39m] \u001b[38;5;28;01mif\u001b[39;00m \u001b[43mi\u001b[49m\u001b[43m[\u001b[49m\u001b[38;5;124;43m'\u001b[39;49m\u001b[38;5;124;43mPrevious Visit Cycle\u001b[39;49m\u001b[38;5;124;43m'\u001b[39;49m\u001b[43m]\u001b[49m\u001b[38;5;241m.\u001b[39mastype(\u001b[38;5;124m'\u001b[39m\u001b[38;5;124mint64\u001b[39m\u001b[38;5;124m'\u001b[39m) \u001b[38;5;241m==\u001b[39m \u001b[38;5;241m0\u001b[39m \u001b[38;5;28;01melse\u001b[39;00m i[\u001b[38;5;124m'\u001b[39m\u001b[38;5;124mPrevious Visit Cycle\u001b[39m\u001b[38;5;124m'\u001b[39m] \u001b[38;5;28;01mfor\u001b[39;00m i \u001b[38;5;129;01min\u001b[39;00m spirits]\n",
      "\u001b[0;31mTypeError\u001b[0m: string indices must be integers"
     ]
    }
   ],
   "source": [
    "#if previous visit is nan set it to visit value\n",
    "#previous visit = visit - previous visit\n",
    "spirits['Previous Visit Cycle'] = [i['Travel Cycle'] if i['Previous Visit Cycle'].astype('int64') == 0 else i['Previous Visit Cycle'] for i in spirits]\n",
    "# if spirits['Previous Visit Cycle'].empty:\n",
    "#     spirits['Previous Visit Cycle'] = 0\n",
    "# else:\n",
    "#     spirits['Previous Visit Cycle'] = spirits['Travel Cycle'] - spirits['Previous Visit Cycle'].astype('int64')"
   ]
  },
  {
   "cell_type": "code",
   "execution_count": 44,
   "metadata": {},
   "outputs": [],
   "source": [
    "spirits['Visit Number'] = spirits['Visit Number'].str.extract(pat='(^[1-9]+)')"
   ]
  },
  {
   "cell_type": "code",
   "execution_count": 155,
   "metadata": {},
   "outputs": [
    {
     "data": {
      "text/html": [
       "<div>\n",
       "<style scoped>\n",
       "    .dataframe tbody tr th:only-of-type {\n",
       "        vertical-align: middle;\n",
       "    }\n",
       "\n",
       "    .dataframe tbody tr th {\n",
       "        vertical-align: top;\n",
       "    }\n",
       "\n",
       "    .dataframe thead th {\n",
       "        text-align: right;\n",
       "    }\n",
       "</style>\n",
       "<table border=\"1\" class=\"dataframe\">\n",
       "  <thead>\n",
       "    <tr style=\"text-align: right;\">\n",
       "      <th></th>\n",
       "      <th>Travel Cycle</th>\n",
       "      <th>Date</th>\n",
       "      <th>Season</th>\n",
       "      <th>Realm</th>\n",
       "      <th>Spirit</th>\n",
       "      <th>Visit Number</th>\n",
       "      <th>Previous Visit Cycle</th>\n",
       "    </tr>\n",
       "  </thead>\n",
       "  <tbody>\n",
       "    <tr>\n",
       "      <th>0</th>\n",
       "      <td>63</td>\n",
       "      <td>2022-06-09</td>\n",
       "      <td>Belonging</td>\n",
       "      <td>Hidden Forest</td>\n",
       "      <td>Hairtousle Teen(R)</td>\n",
       "      <td>2</td>\n",
       "      <td>52</td>\n",
       "    </tr>\n",
       "    <tr>\n",
       "      <th>1</th>\n",
       "      <td>62</td>\n",
       "      <td>2022-05-26</td>\n",
       "      <td>Gratitude</td>\n",
       "      <td>Vault of Knowledge</td>\n",
       "      <td>Greeting Shaman(R)</td>\n",
       "      <td>2</td>\n",
       "      <td>48</td>\n",
       "    </tr>\n",
       "    <tr>\n",
       "      <th>2</th>\n",
       "      <td>61</td>\n",
       "      <td>2022-05-12</td>\n",
       "      <td>Prophecy</td>\n",
       "      <td>Isle of Dawn</td>\n",
       "      <td>Prophet of Air</td>\n",
       "      <td>1</td>\n",
       "      <td>0</td>\n",
       "    </tr>\n",
       "    <tr>\n",
       "      <th>3</th>\n",
       "      <td>60</td>\n",
       "      <td>2022-04-28</td>\n",
       "      <td>Assembly</td>\n",
       "      <td>Hidden Forest</td>\n",
       "      <td>Daydream Forester</td>\n",
       "      <td>1</td>\n",
       "      <td>0</td>\n",
       "    </tr>\n",
       "    <tr>\n",
       "      <th>4</th>\n",
       "      <td>59</td>\n",
       "      <td>2022-04-14</td>\n",
       "      <td>Dreams</td>\n",
       "      <td>Valley of Triumph</td>\n",
       "      <td>Spinning Mentor</td>\n",
       "      <td>1</td>\n",
       "      <td>0</td>\n",
       "    </tr>\n",
       "  </tbody>\n",
       "</table>\n",
       "</div>"
      ],
      "text/plain": [
       "   Travel Cycle       Date     Season               Realm              Spirit  \\\n",
       "0            63 2022-06-09  Belonging       Hidden Forest  Hairtousle Teen(R)   \n",
       "1            62 2022-05-26  Gratitude  Vault of Knowledge  Greeting Shaman(R)   \n",
       "2            61 2022-05-12   Prophecy        Isle of Dawn      Prophet of Air   \n",
       "3            60 2022-04-28   Assembly       Hidden Forest   Daydream Forester   \n",
       "4            59 2022-04-14     Dreams   Valley of Triumph     Spinning Mentor   \n",
       "\n",
       "   Visit Number  Previous Visit Cycle  \n",
       "0             2                    52  \n",
       "1             2                    48  \n",
       "2             1                     0  \n",
       "3             1                     0  \n",
       "4             1                     0  "
      ]
     },
     "execution_count": 155,
     "metadata": {},
     "output_type": "execute_result"
    }
   ],
   "source": [
    "spirits.head()"
   ]
  },
  {
   "cell_type": "code",
   "execution_count": null,
   "metadata": {},
   "outputs": [],
   "source": []
  },
  {
   "cell_type": "code",
   "execution_count": null,
   "metadata": {},
   "outputs": [],
   "source": []
  },
  {
   "cell_type": "code",
   "execution_count": null,
   "metadata": {},
   "outputs": [],
   "source": []
  },
  {
   "cell_type": "code",
   "execution_count": null,
   "metadata": {},
   "outputs": [],
   "source": []
  },
  {
   "cell_type": "code",
   "execution_count": null,
   "metadata": {},
   "outputs": [],
   "source": []
  },
  {
   "cell_type": "code",
   "execution_count": null,
   "metadata": {},
   "outputs": [],
   "source": []
  },
  {
   "cell_type": "code",
   "execution_count": null,
   "metadata": {},
   "outputs": [],
   "source": []
  }
 ],
 "metadata": {
  "kernelspec": {
   "display_name": "Python 3 (ipykernel)",
   "language": "python",
   "name": "python3"
  },
  "language_info": {
   "codemirror_mode": {
    "name": "ipython",
    "version": 3
   },
   "file_extension": ".py",
   "mimetype": "text/x-python",
   "name": "python",
   "nbconvert_exporter": "python",
   "pygments_lexer": "ipython3",
   "version": "3.9.12"
  }
 },
 "nbformat": 4,
 "nbformat_minor": 4
}
